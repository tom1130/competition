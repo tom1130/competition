{
 "cells": [
  {
   "cell_type": "code",
   "execution_count": 1,
   "metadata": {},
   "outputs": [],
   "source": [
    "import os\n",
    "os.chdir('/root/share/tour_ai/code/')"
   ]
  },
  {
   "cell_type": "code",
   "execution_count": 2,
   "metadata": {},
   "outputs": [
    {
     "name": "stderr",
     "output_type": "stream",
     "text": [
      "/opt/conda/lib/python3.7/site-packages/tqdm/auto.py:22: TqdmWarning: IProgress not found. Please update jupyter and ipywidgets. See https://ipywidgets.readthedocs.io/en/stable/user_install.html\n",
      "  from .autonotebook import tqdm as notebook_tqdm\n"
     ]
    }
   ],
   "source": [
    "server = 'docker'\n",
    "from PIL import Image\n",
    "import numpy as np\n",
    "from utils import dataset, models, utils\n",
    "from sklearn.model_selection import train_test_split\n",
    "from torch.utils.data import DataLoader\n",
    "import torch"
   ]
  },
  {
   "cell_type": "code",
   "execution_count": 23,
   "metadata": {},
   "outputs": [],
   "source": [
    "if server == 'colab':\n",
    "  mecab_data_path = '/content/drive/MyDrive/commit_folder/competition/tour_ai/data/mecab_data.csv'\n",
    "  model_save_dict = '/content/drive/MyDrive/commit_folder/competition/tour_ai/data/model/image_model_weight.pt'\n",
    "  test_data_path = '/content/drive/MyDrive/commit_folder/competition/tour_ai/data/mecab_test_data.csv'\n",
    "  base_dir = '/content/drive/MyDrive/commit_folder/competition/tour_ai/data'\n",
    "elif server == 'docker':\n",
    "  mecab_data_path = '/root/share/tour_ai/data/mecab_data.csv'\n",
    "  model_save_dict = '/root/share/tour_ai/data/model/multimodal_model_weight.pt'\n",
    "  test_data_path = '/root/share/tour_ai/data/mecab_test_data.csv'\n",
    "  base_dir = '/root/share/tour_ai/data/'"
   ]
  },
  {
   "cell_type": "code",
   "execution_count": 4,
   "metadata": {},
   "outputs": [],
   "source": [
    "import albumentations as A\n",
    "from albumentations.pytorch.transforms import ToTensorV2\n",
    "\n",
    "image_transforms = A.Compose([\n",
    "    A.Resize(224, 224),\n",
    "    A.Normalize(),\n",
    "    ToTensorV2()\n",
    "])\n",
    "\n",
    "data, label_encoding = utils.data_preprocess(mecab_data_path)\n",
    "data = utils.tokenize_sentence(data)"
   ]
  },
  {
   "cell_type": "code",
   "execution_count": 5,
   "metadata": {},
   "outputs": [],
   "source": [
    "train, valid = train_test_split(data, test_size=0.05, random_state=42)"
   ]
  },
  {
   "cell_type": "code",
   "execution_count": 6,
   "metadata": {},
   "outputs": [],
   "source": [
    "train_dataset = dataset.MultiModalDataset(train, image_transforms, base_dir)\n",
    "\n",
    "valid_dataset = dataset.MultiModalDataset(valid, image_transforms, base_dir)"
   ]
  },
  {
   "cell_type": "code",
   "execution_count": 10,
   "metadata": {},
   "outputs": [
    {
     "name": "stderr",
     "output_type": "stream",
     "text": [
      "/opt/conda/lib/python3.7/site-packages/torchvision/models/_utils.py:209: UserWarning: The parameter 'pretrained' is deprecated since 0.13 and will be removed in 0.15, please use 'weights' instead.\n",
      "  f\"The parameter '{pretrained_param}' is deprecated since 0.13 and will be removed in 0.15, \"\n",
      "/opt/conda/lib/python3.7/site-packages/torchvision/models/_utils.py:223: UserWarning: Arguments other than a weight enum or `None` for 'weights' are deprecated since 0.13 and will be removed in 0.15. The current behavior is equivalent to passing `weights=EfficientNet_B0_Weights.IMAGENET1K_V1`. You can also use `weights=EfficientNet_B0_Weights.DEFAULT` to get the most up-to-date weights.\n",
      "  warnings.warn(msg)\n",
      "Some weights of the model checkpoint at klue/roberta-small were not used when initializing RobertaModel: ['lm_head.decoder.weight', 'lm_head.bias', 'lm_head.decoder.bias', 'lm_head.layer_norm.weight', 'lm_head.layer_norm.bias', 'lm_head.dense.weight', 'lm_head.dense.bias']\n",
      "- This IS expected if you are initializing RobertaModel from the checkpoint of a model trained on another task or with another architecture (e.g. initializing a BertForSequenceClassification model from a BertForPreTraining model).\n",
      "- This IS NOT expected if you are initializing RobertaModel from the checkpoint of a model that you expect to be exactly identical (initializing a BertForSequenceClassification model from a BertForSequenceClassification model).\n",
      "Some weights of RobertaModel were not initialized from the model checkpoint at klue/roberta-small and are newly initialized: ['roberta.pooler.dense.bias', 'roberta.pooler.dense.weight']\n",
      "You should probably TRAIN this model on a down-stream task to be able to use it for predictions and inference.\n"
     ]
    }
   ],
   "source": [
    "model = models.MultiModalModel(len(label_encoding.classes_), text_model = 'bert_klue')"
   ]
  },
  {
   "cell_type": "code",
   "execution_count": 21,
   "metadata": {},
   "outputs": [],
   "source": [
    "LR = 1.5e-6\n",
    "EPOCHS = 15"
   ]
  },
  {
   "cell_type": "code",
   "execution_count": 20,
   "metadata": {},
   "outputs": [
    {
     "name": "stderr",
     "output_type": "stream",
     "text": [
      "  0%|          | 0/1009 [00:00<?, ?it/s]/root/share/tour_ai/code/utils/models.py:81: UserWarning: Implicit dimension choice for softmax has been deprecated. Change the call to include dim=X as an argument.\n",
      "  output = self.softmax(output)\n",
      "100%|██████████| 1009/1009 [06:27<00:00,  2.61it/s]\n",
      "100%|██████████| 54/54 [00:10<00:00,  5.09it/s]\n"
     ]
    },
    {
     "name": "stdout",
     "output_type": "stream",
     "text": [
      "Epochs : 1 | Train Loss : 0.2662 | Train Accuracy : 0.6156\n",
      "Valid Loss : 0.2692 | Valid Accuracy : 0.6294 | Weighted F1 :0.5225\n"
     ]
    },
    {
     "name": "stderr",
     "output_type": "stream",
     "text": [
      "  0%|          | 0/1009 [00:00<?, ?it/s]/root/share/tour_ai/code/utils/models.py:81: UserWarning: Implicit dimension choice for softmax has been deprecated. Change the call to include dim=X as an argument.\n",
      "  output = self.softmax(output)\n",
      "100%|██████████| 1009/1009 [06:29<00:00,  2.59it/s]\n",
      "100%|██████████| 54/54 [00:10<00:00,  5.11it/s]\n"
     ]
    },
    {
     "name": "stdout",
     "output_type": "stream",
     "text": [
      "Epochs : 2 | Train Loss : 0.2658 | Train Accuracy : 0.6202\n",
      "Valid Loss : 0.2697 | Valid Accuracy : 0.6259 | Weighted F1 :0.5233\n"
     ]
    },
    {
     "name": "stderr",
     "output_type": "stream",
     "text": [
      "  0%|          | 0/1009 [00:00<?, ?it/s]/root/share/tour_ai/code/utils/models.py:81: UserWarning: Implicit dimension choice for softmax has been deprecated. Change the call to include dim=X as an argument.\n",
      "  output = self.softmax(output)\n",
      "100%|██████████| 1009/1009 [06:29<00:00,  2.59it/s]\n",
      "100%|██████████| 54/54 [00:10<00:00,  5.04it/s]\n"
     ]
    },
    {
     "name": "stdout",
     "output_type": "stream",
     "text": [
      "Epochs : 3 | Train Loss : 0.2654 | Train Accuracy : 0.6279\n",
      "Valid Loss : 0.2693 | Valid Accuracy : 0.6388 | Weighted F1 :0.5393\n"
     ]
    },
    {
     "name": "stderr",
     "output_type": "stream",
     "text": [
      "  0%|          | 0/1009 [00:00<?, ?it/s]/root/share/tour_ai/code/utils/models.py:81: UserWarning: Implicit dimension choice for softmax has been deprecated. Change the call to include dim=X as an argument.\n",
      "  output = self.softmax(output)\n",
      "100%|██████████| 1009/1009 [06:29<00:00,  2.59it/s]\n",
      "100%|██████████| 54/54 [00:10<00:00,  5.08it/s]\n"
     ]
    },
    {
     "name": "stdout",
     "output_type": "stream",
     "text": [
      "Epochs : 4 | Train Loss : 0.2649 | Train Accuracy : 0.6351\n",
      "Valid Loss : 0.2694 | Valid Accuracy : 0.6388 | Weighted F1 :0.5461\n"
     ]
    },
    {
     "name": "stderr",
     "output_type": "stream",
     "text": [
      "  0%|          | 0/1009 [00:00<?, ?it/s]/root/share/tour_ai/code/utils/models.py:81: UserWarning: Implicit dimension choice for softmax has been deprecated. Change the call to include dim=X as an argument.\n",
      "  output = self.softmax(output)\n",
      "100%|██████████| 1009/1009 [06:29<00:00,  2.59it/s]\n",
      "100%|██████████| 54/54 [00:10<00:00,  5.06it/s]\n"
     ]
    },
    {
     "name": "stdout",
     "output_type": "stream",
     "text": [
      "Epochs : 5 | Train Loss : 0.2646 | Train Accuracy : 0.6383\n",
      "Valid Loss : 0.2687 | Valid Accuracy : 0.6376 | Weighted F1 :0.5419\n"
     ]
    },
    {
     "name": "stderr",
     "output_type": "stream",
     "text": [
      "  0%|          | 0/1009 [00:00<?, ?it/s]/root/share/tour_ai/code/utils/models.py:81: UserWarning: Implicit dimension choice for softmax has been deprecated. Change the call to include dim=X as an argument.\n",
      "  output = self.softmax(output)\n",
      "100%|██████████| 1009/1009 [06:28<00:00,  2.59it/s]\n",
      "100%|██████████| 54/54 [00:10<00:00,  5.07it/s]\n"
     ]
    },
    {
     "name": "stdout",
     "output_type": "stream",
     "text": [
      "Epochs : 6 | Train Loss : 0.2643 | Train Accuracy : 0.6411\n",
      "Valid Loss : 0.2692 | Valid Accuracy : 0.6424 | Weighted F1 :0.5438\n"
     ]
    },
    {
     "name": "stderr",
     "output_type": "stream",
     "text": [
      "  0%|          | 0/1009 [00:00<?, ?it/s]/root/share/tour_ai/code/utils/models.py:81: UserWarning: Implicit dimension choice for softmax has been deprecated. Change the call to include dim=X as an argument.\n",
      "  output = self.softmax(output)\n",
      "100%|██████████| 1009/1009 [06:33<00:00,  2.56it/s]\n",
      "100%|██████████| 54/54 [00:10<00:00,  4.92it/s]\n"
     ]
    },
    {
     "name": "stdout",
     "output_type": "stream",
     "text": [
      "Epochs : 7 | Train Loss : 0.2641 | Train Accuracy : 0.6441\n",
      "Valid Loss : 0.2685 | Valid Accuracy : 0.6447 | Weighted F1 :0.5495\n"
     ]
    },
    {
     "name": "stderr",
     "output_type": "stream",
     "text": [
      "  0%|          | 0/1009 [00:00<?, ?it/s]/root/share/tour_ai/code/utils/models.py:81: UserWarning: Implicit dimension choice for softmax has been deprecated. Change the call to include dim=X as an argument.\n",
      "  output = self.softmax(output)\n",
      "100%|██████████| 1009/1009 [06:35<00:00,  2.55it/s]\n",
      "100%|██████████| 54/54 [00:10<00:00,  5.00it/s]\n"
     ]
    },
    {
     "name": "stdout",
     "output_type": "stream",
     "text": [
      "Epochs : 8 | Train Loss : 0.2638 | Train Accuracy : 0.6511\n",
      "Valid Loss : 0.2682 | Valid Accuracy : 0.6541 | Weighted F1 :0.5542\n"
     ]
    },
    {
     "name": "stderr",
     "output_type": "stream",
     "text": [
      "  0%|          | 0/1009 [00:00<?, ?it/s]/root/share/tour_ai/code/utils/models.py:81: UserWarning: Implicit dimension choice for softmax has been deprecated. Change the call to include dim=X as an argument.\n",
      "  output = self.softmax(output)\n",
      "100%|██████████| 1009/1009 [06:36<00:00,  2.54it/s]\n",
      "100%|██████████| 54/54 [00:10<00:00,  5.01it/s]\n"
     ]
    },
    {
     "name": "stdout",
     "output_type": "stream",
     "text": [
      "Epochs : 9 | Train Loss : 0.2635 | Train Accuracy : 0.6548\n",
      "Valid Loss : 0.2677 | Valid Accuracy : 0.6459 | Weighted F1 :0.5580\n"
     ]
    },
    {
     "name": "stderr",
     "output_type": "stream",
     "text": [
      "  0%|          | 0/1009 [00:00<?, ?it/s]/root/share/tour_ai/code/utils/models.py:81: UserWarning: Implicit dimension choice for softmax has been deprecated. Change the call to include dim=X as an argument.\n",
      "  output = self.softmax(output)\n",
      "100%|██████████| 1009/1009 [06:39<00:00,  2.53it/s]\n",
      "100%|██████████| 54/54 [00:10<00:00,  4.92it/s]\n"
     ]
    },
    {
     "name": "stdout",
     "output_type": "stream",
     "text": [
      "Epochs : 10 | Train Loss : 0.2631 | Train Accuracy : 0.6647\n",
      "Valid Loss : 0.2676 | Valid Accuracy : 0.6647 | Weighted F1 :0.5811\n"
     ]
    },
    {
     "name": "stderr",
     "output_type": "stream",
     "text": [
      "  0%|          | 0/1009 [00:00<?, ?it/s]/root/share/tour_ai/code/utils/models.py:81: UserWarning: Implicit dimension choice for softmax has been deprecated. Change the call to include dim=X as an argument.\n",
      "  output = self.softmax(output)\n",
      "100%|██████████| 1009/1009 [06:43<00:00,  2.50it/s]\n",
      "100%|██████████| 54/54 [00:11<00:00,  4.87it/s]\n"
     ]
    },
    {
     "name": "stdout",
     "output_type": "stream",
     "text": [
      "Epochs : 11 | Train Loss : 0.2624 | Train Accuracy : 0.6801\n",
      "Valid Loss : 0.2669 | Valid Accuracy : 0.6694 | Weighted F1 :0.5956\n"
     ]
    },
    {
     "name": "stderr",
     "output_type": "stream",
     "text": [
      "  0%|          | 0/1009 [00:00<?, ?it/s]/root/share/tour_ai/code/utils/models.py:81: UserWarning: Implicit dimension choice for softmax has been deprecated. Change the call to include dim=X as an argument.\n",
      "  output = self.softmax(output)\n",
      "100%|██████████| 1009/1009 [06:34<00:00,  2.56it/s]\n",
      "100%|██████████| 54/54 [00:10<00:00,  5.02it/s]\n"
     ]
    },
    {
     "name": "stdout",
     "output_type": "stream",
     "text": [
      "Epochs : 12 | Train Loss : 0.2617 | Train Accuracy : 0.6890\n",
      "Valid Loss : 0.2672 | Valid Accuracy : 0.6635 | Weighted F1 :0.5859\n"
     ]
    },
    {
     "name": "stderr",
     "output_type": "stream",
     "text": [
      "  0%|          | 0/1009 [00:00<?, ?it/s]/root/share/tour_ai/code/utils/models.py:81: UserWarning: Implicit dimension choice for softmax has been deprecated. Change the call to include dim=X as an argument.\n",
      "  output = self.softmax(output)\n",
      "100%|██████████| 1009/1009 [06:32<00:00,  2.57it/s]\n",
      "100%|██████████| 54/54 [00:10<00:00,  5.04it/s]\n"
     ]
    },
    {
     "name": "stdout",
     "output_type": "stream",
     "text": [
      "Epochs : 13 | Train Loss : 0.2613 | Train Accuracy : 0.6920\n",
      "Valid Loss : 0.2672 | Valid Accuracy : 0.6671 | Weighted F1 :0.5927\n"
     ]
    },
    {
     "name": "stderr",
     "output_type": "stream",
     "text": [
      "  0%|          | 0/1009 [00:00<?, ?it/s]/root/share/tour_ai/code/utils/models.py:81: UserWarning: Implicit dimension choice for softmax has been deprecated. Change the call to include dim=X as an argument.\n",
      "  output = self.softmax(output)\n",
      "100%|██████████| 1009/1009 [06:31<00:00,  2.58it/s]\n",
      "100%|██████████| 54/54 [00:10<00:00,  5.00it/s]\n"
     ]
    },
    {
     "name": "stdout",
     "output_type": "stream",
     "text": [
      "Epochs : 14 | Train Loss : 0.2610 | Train Accuracy : 0.6951\n",
      "Valid Loss : 0.2675 | Valid Accuracy : 0.6671 | Weighted F1 :0.5896\n"
     ]
    },
    {
     "name": "stderr",
     "output_type": "stream",
     "text": [
      "  0%|          | 0/1009 [00:00<?, ?it/s]/root/share/tour_ai/code/utils/models.py:81: UserWarning: Implicit dimension choice for softmax has been deprecated. Change the call to include dim=X as an argument.\n",
      "  output = self.softmax(output)\n",
      "100%|██████████| 1009/1009 [06:31<00:00,  2.58it/s]\n",
      "100%|██████████| 54/54 [00:10<00:00,  5.05it/s]"
     ]
    },
    {
     "name": "stdout",
     "output_type": "stream",
     "text": [
      "Epochs : 15 | Train Loss : 0.2608 | Train Accuracy : 0.6971\n",
      "Valid Loss : 0.2666 | Valid Accuracy : 0.6671 | Weighted F1 :0.5927\n"
     ]
    },
    {
     "name": "stderr",
     "output_type": "stream",
     "text": [
      "\n"
     ]
    }
   ],
   "source": [
    "utils.multimodal_train(model, train_dataset, valid_data=valid_dataset, lr=LR, epochs=EPOCHS)"
   ]
  },
  {
   "cell_type": "code",
   "execution_count": 24,
   "metadata": {},
   "outputs": [],
   "source": [
    "torch.save(model.state_dict(), model_save_dict)"
   ]
  },
  {
   "cell_type": "code",
   "execution_count": null,
   "metadata": {},
   "outputs": [],
   "source": []
  }
 ],
 "metadata": {
  "kernelspec": {
   "display_name": "Python 3.7.13 ('base')",
   "language": "python",
   "name": "python3"
  },
  "language_info": {
   "codemirror_mode": {
    "name": "ipython",
    "version": 3
   },
   "file_extension": ".py",
   "mimetype": "text/x-python",
   "name": "python",
   "nbconvert_exporter": "python",
   "pygments_lexer": "ipython3",
   "version": "3.7.13"
  },
  "orig_nbformat": 4,
  "vscode": {
   "interpreter": {
    "hash": "d4d1e4263499bec80672ea0156c357c1ee493ec2b1c70f0acce89fc37c4a6abe"
   }
  }
 },
 "nbformat": 4,
 "nbformat_minor": 2
}
